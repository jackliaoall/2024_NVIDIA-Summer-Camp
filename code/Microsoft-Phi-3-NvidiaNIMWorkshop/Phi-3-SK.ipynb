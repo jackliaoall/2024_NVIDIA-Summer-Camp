{
 "cells": [
  {
   "cell_type": "code",
   "execution_count": 1,
   "metadata": {
    "dotnet_interactive": {
     "language": "csharp"
    },
    "polyglot_notebook": {
     "kernelName": "csharp"
    },
    "vscode": {
     "languageId": "polyglot-notebook"
    }
   },
   "outputs": [
    {
     "data": {
      "text/html": [
       "<div><div></div><div></div><div><strong>Installed Packages</strong><ul><li><span>Microsoft.SemanticKernel, 1.18.0-rc</span></li></ul></div></div>"
      ]
     },
     "metadata": {},
     "output_type": "display_data"
    }
   ],
   "source": [
    "#r \"nuget: Microsoft.SemanticKernel, *-*\""
   ]
  },
  {
   "cell_type": "code",
   "execution_count": 2,
   "metadata": {
    "dotnet_interactive": {
     "language": "csharp"
    },
    "polyglot_notebook": {
     "kernelName": "csharp"
    },
    "vscode": {
     "languageId": "polyglot-notebook"
    }
   },
   "outputs": [],
   "source": [
    "using Microsoft.SemanticKernel;\n",
    "using Microsoft.SemanticKernel.ChatCompletion;\n",
    "using System.Net.Http.Headers;\n",
    "using System.Text.Json;"
   ]
  },
  {
   "cell_type": "code",
   "execution_count": 3,
   "metadata": {
    "dotnet_interactive": {
     "language": "csharp"
    },
    "polyglot_notebook": {
     "kernelName": "csharp"
    },
    "vscode": {
     "languageId": "polyglot-notebook"
    }
   },
   "outputs": [],
   "source": [
    "public class ChatMessage\n",
    "{\n",
    "        public string role { get; set; }\n",
    "        public string content { get; set; }\n",
    "}"
   ]
  },
  {
   "cell_type": "code",
   "execution_count": 4,
   "metadata": {
    "dotnet_interactive": {
     "language": "csharp"
    },
    "polyglot_notebook": {
     "kernelName": "csharp"
    },
    "vscode": {
     "languageId": "polyglot-notebook"
    }
   },
   "outputs": [],
   "source": [
    "public class ChatRequest\n",
    "{\n",
    "        public ChatRequest()\n",
    "        {\n",
    "            messages = new List<ChatMessage>();\n",
    "            temperature = 0.7f;\n",
    "            max_tokens = 2048;\n",
    "            stream = false;\n",
    "            model = \"\";\n",
    "        }\n",
    "        public string model { get; set; }\n",
    "        public List<ChatMessage> messages { get; set; }\n",
    "        public float temperature { get; set; }\n",
    "        public int max_tokens { get; set; }\n",
    "        public bool stream { get; set; }\n",
    "        \n",
    "}"
   ]
  },
  {
   "cell_type": "code",
   "execution_count": 5,
   "metadata": {
    "dotnet_interactive": {
     "language": "csharp"
    },
    "polyglot_notebook": {
     "kernelName": "csharp"
    },
    "vscode": {
     "languageId": "polyglot-notebook"
    }
   },
   "outputs": [],
   "source": [
    "    public class ChatResponseChoice\n",
    "    {\n",
    "        public int ChatResponseindex { get; set; }\n",
    "        public ChatResponseMessage message { get; set; }\n",
    "        public string finish_reason { get; set; }\n",
    "    }\n",
    "\n",
    "    public class ChatResponseMessage\n",
    "    {\n",
    "        public string role { get; set; }\n",
    "        public string content { get; set; }\n",
    "    }\n",
    "\n",
    "    public class ChatResponse\n",
    "    {\n",
    "        public string id { get; set; }\n",
    "        public string @object { get; set; }\n",
    "        public int created { get; set; }\n",
    "        public string model { get; set; }\n",
    "        public List<ChatResponseChoice> choices { get; set; }\n",
    "        public ChatResponseUsage usage { get; set; }\n",
    "    }\n",
    "\n",
    "    public class ChatResponseUsage\n",
    "    {\n",
    "        public int prompt_tokens { get; set; }\n",
    "        public int completion_tokens { get; set; }\n",
    "        public int total_tokens { get; set; }\n",
    "    }"
   ]
  },
  {
   "cell_type": "code",
   "execution_count": 6,
   "metadata": {
    "dotnet_interactive": {
     "language": "csharp"
    },
    "polyglot_notebook": {
     "kernelName": "csharp"
    },
    "vscode": {
     "languageId": "polyglot-notebook"
    }
   },
   "outputs": [],
   "source": [
    "using System.Net.Http;\n",
    "using System.Net.Http.Headers;\n",
    "using System.Text.Json;\n",
    "using System.Threading;\n",
    "\n",
    "using Microsoft.SemanticKernel;\n",
    "using Microsoft.SemanticKernel.ChatCompletion;"
   ]
  },
  {
   "cell_type": "code",
   "execution_count": 7,
   "metadata": {
    "dotnet_interactive": {
     "language": "csharp"
    },
    "polyglot_notebook": {
     "kernelName": "csharp"
    },
    "vscode": {
     "languageId": "polyglot-notebook"
    }
   },
   "outputs": [],
   "source": [
    "\n",
    "    public class CustomChatCompletionService : IChatCompletionService\n",
    "    {\n",
    "        // public property for the model url endpoint\n",
    "        public string ModelUrl { get; set; }\n",
    "        public string ModelName { get; set; }\n",
    "        public string ApiKey { get; set; }\n",
    "\n",
    "        public IReadOnlyDictionary<string, object?> Attributes => throw new NotImplementedException();\n",
    "\n",
    "        public async Task<IReadOnlyList<ChatMessageContent>> GetChatMessageContentsAsync(ChatHistory chatHistory, PromptExecutionSettings? executionSettings = null, Kernel? kernel = null, CancellationToken cancellationToken = default)\n",
    "        {\n",
    "            using (var httpClient = new HttpClient())\n",
    "            {\n",
    "                    var root = new ChatRequest();\n",
    "                    for (int i = 0; i < chatHistory.Count; i++)\n",
    "                    {\n",
    "                        var message = chatHistory[i];\n",
    "                        var msg = new ChatMessage();\n",
    "                        msg.role = message.Role.ToString().ToLower();\n",
    "                        msg.content = message.Content;\n",
    "                        root.messages.Add(msg);\n",
    "                    }\n",
    "\n",
    "                    // validate if ModelName is not empty and add it to the root object\n",
    "                    if (!string.IsNullOrEmpty(ModelName))\n",
    "                    {\n",
    "                        root.model = ModelName;\n",
    "                    }\n",
    "\n",
    "                    // generate the json string from the root object\n",
    "                    var jsonString = JsonSerializer.Serialize(root);\n",
    "\n",
    "                    var request = new HttpRequestMessage\n",
    "                    {\n",
    "                        Method = HttpMethod.Post,\n",
    "                        RequestUri = new Uri(ModelUrl),\n",
    "                        Headers =\n",
    "                        {\n",
    "                            { \"Authorization\", \"Bearer \"+ ApiKey },\n",
    "                        }\n",
    "                    };\n",
    "\n",
    "                    request.Content = new StringContent(jsonString);\n",
    "                    request.Content.Headers.ContentType = MediaTypeHeaderValue.Parse(\"application/json\");\n",
    "\n",
    "                    // iterate though chatHistory and generate a json document based on the Root class\n",
    "                    var httpResponse = await httpClient.SendAsync(request);\n",
    "\n",
    "                    // get the response content\n",
    "                    var responseContent = await httpResponse.Content.ReadAsStringAsync();\n",
    "\n",
    "                    // deserialize the response content into a ChatResponse object\n",
    "                    var chatResponse = JsonSerializer.Deserialize<ChatResponse>(responseContent);\n",
    "\n",
    "                    // add httpResponse content to chatHistory\n",
    "                    chatHistory.AddAssistantMessage(chatResponse.choices[0].message.content);\n",
    "            }\n",
    "\n",
    "            return chatHistory;\n",
    "        }\n",
    "\n",
    "        public IAsyncEnumerable<StreamingChatMessageContent> GetStreamingChatMessageContentsAsync(ChatHistory chatHistory, PromptExecutionSettings? executionSettings = null, Kernel? kernel = null, CancellationToken cancellationToken = default)\n",
    "        {\n",
    "            throw new NotImplementedException();\n",
    "        }\n",
    "\n",
    "    }"
   ]
  },
  {
   "cell_type": "code",
   "execution_count": 8,
   "metadata": {
    "dotnet_interactive": {
     "language": "csharp"
    },
    "polyglot_notebook": {
     "kernelName": "csharp"
    },
    "vscode": {
     "languageId": "polyglot-notebook"
    }
   },
   "outputs": [],
   "source": [
    "var nvidiaNIMChat = new CustomChatCompletionService();\n",
    "nvidiaNIMChat.ModelUrl = \"https://integrate.api.nvidia.com/v1/chat/completions\";\n",
    "nvidiaNIMChat.ModelName = \"microsoft/phi-3-mini-128k-instruct\";\n",
    "nvidiaNIMChat.ApiKey = \"Your Nvidia NIM API Key\";"
   ]
  },
  {
   "cell_type": "code",
   "execution_count": 9,
   "metadata": {
    "dotnet_interactive": {
     "language": "csharp"
    },
    "polyglot_notebook": {
     "kernelName": "csharp"
    },
    "vscode": {
     "languageId": "polyglot-notebook"
    }
   },
   "outputs": [],
   "source": [
    "using Microsoft.Extensions.DependencyInjection;"
   ]
  },
  {
   "cell_type": "code",
   "execution_count": 10,
   "metadata": {
    "dotnet_interactive": {
     "language": "csharp"
    },
    "polyglot_notebook": {
     "kernelName": "csharp"
    },
    "vscode": {
     "languageId": "polyglot-notebook"
    }
   },
   "outputs": [],
   "source": [
    "var builder = Kernel.CreateBuilder();\n",
    "builder.Services.AddKeyedSingleton<IChatCompletionService>(\"nvidiaNIMChat\", nvidiaNIMChat);\n",
    "var kernel = builder.Build();"
   ]
  },
  {
   "cell_type": "code",
   "execution_count": 11,
   "metadata": {
    "dotnet_interactive": {
     "language": "csharp"
    },
    "polyglot_notebook": {
     "kernelName": "csharp"
    },
    "vscode": {
     "languageId": "polyglot-notebook"
    }
   },
   "outputs": [],
   "source": [
    "var chat = kernel.GetRequiredService<IChatCompletionService>();\n",
    "var history = new ChatHistory();\n",
    "history.AddUserMessage(\"hi, who are you?\");"
   ]
  },
  {
   "cell_type": "code",
   "execution_count": 12,
   "metadata": {
    "dotnet_interactive": {
     "language": "csharp"
    },
    "polyglot_notebook": {
     "kernelName": "csharp"
    },
    "vscode": {
     "languageId": "polyglot-notebook"
    }
   },
   "outputs": [],
   "source": [
    "var result = await chat.GetChatMessageContentsAsync(history);"
   ]
  },
  {
   "cell_type": "code",
   "execution_count": 13,
   "metadata": {
    "dotnet_interactive": {
     "language": "csharp"
    },
    "polyglot_notebook": {
     "kernelName": "csharp"
    },
    "vscode": {
     "languageId": "polyglot-notebook"
    }
   },
   "outputs": [
    {
     "data": {
      "text/plain": [
       "Hello! I'm Phi, an AI developed by Microsoft. I'm here to help you with questions, provide information, and assist with a wide range of tasks. How can I help you today?"
      ]
     },
     "metadata": {},
     "output_type": "display_data"
    }
   ],
   "source": [
    "result[^1].Content"
   ]
  }
 ],
 "metadata": {
  "kernelspec": {
   "display_name": ".NET (C#)",
   "language": "C#",
   "name": ".net-csharp"
  },
  "language_info": {
   "name": "python",
   "version": "3.10.12"
  },
  "polyglot_notebook": {
   "kernelInfo": {
    "defaultKernelName": "csharp",
    "items": [
     {
      "aliases": [],
      "name": "csharp"
     }
    ]
   }
  }
 },
 "nbformat": 4,
 "nbformat_minor": 2
}
